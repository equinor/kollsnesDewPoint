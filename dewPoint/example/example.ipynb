{
 "cells": [
  {
   "cell_type": "markdown",
   "metadata": {},
   "source": [
    "# Example of running the Kolsnes Dew Point API"
   ]
  },
  {
   "cell_type": "markdown",
   "metadata": {},
   "source": [
    "Examples of running the Kollsnes Dew Point API\n",
    "\n",
    "Run the API localy using the command:\n",
    "uvicorn main:app --reload \n",
    "\n",
    "http://localhost:8000/"
   ]
  },
  {
   "cell_type": "code",
   "execution_count": 13,
   "metadata": {},
   "outputs": [
    {
     "data": {
      "text/plain": [
       "{'waterDewPoint': -27.974360733870782,\n",
       " 'hydrocarbonDewPoint': -22.76811236395463}"
      ]
     },
     "execution_count": 13,
     "metadata": {},
     "output_type": "execute_result"
    }
   ],
   "source": [
    "import json\n",
    "import requests\n",
    "\n",
    "datasphaseopt = {\n",
    "  'feedFlowRateTrain1': 25.83,\n",
    "  'feedPressure': 91.85,\n",
    "  'feedTemperature': 5.0,\n",
    "  'sep1Pressure': 87.94,\n",
    "  'cooler1T': -5.0,\n",
    "  'expOutPressure': 68.18,\n",
    "  'glycolFlow': 0.212410410312512295224\n",
    "} \n",
    "data_json1 = json.dumps(datasphaseopt)\n",
    "\n",
    "try:\n",
    "        response = requests.post('http://localhost:8000/kol2/waterDewPoint', data_json1)  \n",
    "except:\n",
    "        print(\"No respons after max time...continuing\")\n",
    "\n",
    "response.json()"
   ]
  }
 ],
 "metadata": {
  "interpreter": {
   "hash": "57baa5815c940fdaff4d14510622de9616cae602444507ba5d0b6727c008cbd6"
  },
  "kernelspec": {
   "display_name": "Python 3.7.8 64-bit",
   "language": "python",
   "name": "python3"
  },
  "language_info": {
   "codemirror_mode": {
    "name": "ipython",
    "version": 3
   },
   "file_extension": ".py",
   "mimetype": "text/x-python",
   "name": "python",
   "nbconvert_exporter": "python",
   "pygments_lexer": "ipython3",
   "version": "3.7.9"
  },
  "orig_nbformat": 4
 },
 "nbformat": 4,
 "nbformat_minor": 2
}
