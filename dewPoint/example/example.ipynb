{
 "cells": [
  {
   "cell_type": "markdown",
   "metadata": {},
   "source": [
    "# Example of running the Kolsnes Dew Point API"
   ]
  },
  {
   "cell_type": "markdown",
   "metadata": {},
   "source": [
    "Examples of running the Kollsnes Dew Point API\n",
    "\n",
    "Run the API localy using the command:\n",
    "uvicorn main:app --reload \n",
    "\n",
    "http://localhost:8000/"
   ]
  },
  {
   "cell_type": "code",
   "execution_count": 6,
   "metadata": {},
   "outputs": [
    {
     "name": "stdout",
     "output_type": "stream",
     "text": [
      "\u001b[31mERROR: You must give at least one requirement to install (see \"pip help install\")\u001b[0m\n",
      "\u001b[33mWARNING: You are using pip version 21.1.1; however, version 22.0.4 is available.\n",
      "You should consider upgrading via the '/workspaces/kollsnesDewPoint/.venv/bin/python -m pip install --upgrade pip' command.\u001b[0m\n",
      "Note: you may need to restart the kernel to use updated packages.\n",
      "Requirement already satisfied: fastapi in /workspaces/kollsnesDewPoint/.venv/lib/python3.8/site-packages (0.75.2)\n",
      "Requirement already satisfied: pydantic!=1.7,!=1.7.1,!=1.7.2,!=1.7.3,!=1.8,!=1.8.1,<2.0.0,>=1.6.2 in /workspaces/kollsnesDewPoint/.venv/lib/python3.8/site-packages (from fastapi) (1.9.0)\n",
      "Requirement already satisfied: starlette==0.17.1 in /workspaces/kollsnesDewPoint/.venv/lib/python3.8/site-packages (from fastapi) (0.17.1)\n",
      "Requirement already satisfied: anyio<4,>=3.0.0 in /workspaces/kollsnesDewPoint/.venv/lib/python3.8/site-packages (from starlette==0.17.1->fastapi) (3.5.0)\n",
      "Requirement already satisfied: sniffio>=1.1 in /workspaces/kollsnesDewPoint/.venv/lib/python3.8/site-packages (from anyio<4,>=3.0.0->starlette==0.17.1->fastapi) (1.2.0)\n",
      "Requirement already satisfied: idna>=2.8 in /workspaces/kollsnesDewPoint/.venv/lib/python3.8/site-packages (from anyio<4,>=3.0.0->starlette==0.17.1->fastapi) (3.3)\n",
      "Requirement already satisfied: typing-extensions>=3.7.4.3 in /workspaces/kollsnesDewPoint/.venv/lib/python3.8/site-packages (from pydantic!=1.7,!=1.7.1,!=1.7.2,!=1.7.3,!=1.8,!=1.8.1,<2.0.0,>=1.6.2->fastapi) (4.2.0)\n",
      "\u001b[33mWARNING: You are using pip version 21.1.1; however, version 22.0.4 is available.\n",
      "You should consider upgrading via the '/workspaces/kollsnesDewPoint/.venv/bin/python -m pip install --upgrade pip' command.\u001b[0m\n",
      "Note: you may need to restart the kernel to use updated packages.\n",
      "Requirement already satisfied: neqsim in /workspaces/kollsnesDewPoint/.venv/lib/python3.8/site-packages (2.3.21)\n",
      "Requirement already satisfied: pandas in /workspaces/kollsnesDewPoint/.venv/lib/python3.8/site-packages (from neqsim) (1.4.2)\n",
      "Requirement already satisfied: jpype1 in /workspaces/kollsnesDewPoint/.venv/lib/python3.8/site-packages (from neqsim) (1.3.0)\n",
      "Requirement already satisfied: numpy>=1.18.5 in /workspaces/kollsnesDewPoint/.venv/lib/python3.8/site-packages (from pandas->neqsim) (1.22.3)\n",
      "Requirement already satisfied: pytz>=2020.1 in /workspaces/kollsnesDewPoint/.venv/lib/python3.8/site-packages (from pandas->neqsim) (2022.1)\n",
      "Requirement already satisfied: python-dateutil>=2.8.1 in /workspaces/kollsnesDewPoint/.venv/lib/python3.8/site-packages (from pandas->neqsim) (2.8.2)\n",
      "Requirement already satisfied: six>=1.5 in /workspaces/kollsnesDewPoint/.venv/lib/python3.8/site-packages (from python-dateutil>=2.8.1->pandas->neqsim) (1.16.0)\n",
      "\u001b[33mWARNING: You are using pip version 21.1.1; however, version 22.0.4 is available.\n",
      "You should consider upgrading via the '/workspaces/kollsnesDewPoint/.venv/bin/python -m pip install --upgrade pip' command.\u001b[0m\n",
      "Note: you may need to restart the kernel to use updated packages.\n",
      "Requirement already satisfied: requests in /workspaces/kollsnesDewPoint/.venv/lib/python3.8/site-packages (2.27.1)\n",
      "Requirement already satisfied: idna<4,>=2.5 in /workspaces/kollsnesDewPoint/.venv/lib/python3.8/site-packages (from requests) (3.3)\n",
      "Requirement already satisfied: charset-normalizer~=2.0.0 in /workspaces/kollsnesDewPoint/.venv/lib/python3.8/site-packages (from requests) (2.0.12)\n",
      "Requirement already satisfied: certifi>=2017.4.17 in /workspaces/kollsnesDewPoint/.venv/lib/python3.8/site-packages (from requests) (2021.10.8)\n",
      "Requirement already satisfied: urllib3<1.27,>=1.21.1 in /workspaces/kollsnesDewPoint/.venv/lib/python3.8/site-packages (from requests) (1.26.9)\n",
      "\u001b[33mWARNING: You are using pip version 21.1.1; however, version 22.0.4 is available.\n",
      "You should consider upgrading via the '/workspaces/kollsnesDewPoint/.venv/bin/python -m pip install --upgrade pip' command.\u001b[0m\n",
      "Note: you may need to restart the kernel to use updated packages.\n"
     ]
    },
    {
     "name": "stderr",
     "output_type": "stream",
     "text": [
      "UsageError: Line magic function `%uvicorn` not found.\n"
     ]
    }
   ],
   "source": [
    "%pip install\n",
    "%pip install fastapi\n",
    "%pip install neqsim\n",
    "%pip install requests\n",
    "# run command uvicorn main:app --reload "
   ]
  },
  {
   "cell_type": "code",
   "execution_count": 5,
   "metadata": {},
   "outputs": [
    {
     "data": {
      "text/plain": [
       "{'waterDewPoint': -14.68892690240176,\n",
       " 'hydrocarbonDewPoint': -9.041735633549251,\n",
       " 'hydrateTDewTScrubber': -9.9269348092742,\n",
       " 'MEGfrezeT': 7.660463597700584}"
      ]
     },
     "execution_count": 5,
     "metadata": {},
     "output_type": "execute_result"
    }
   ],
   "source": [
    "import json\n",
    "import requests\n",
    "\n",
    "datasphaseopt = {\n",
    "  'feedFlowRateTrain1': 20.83,\n",
    "  'feedPressure': 91.85,\n",
    "  'feedTemperature': 6.0,\n",
    "  'sep1Pressure': 87.94,\n",
    "  'cooler1T': -13.0,\n",
    "  'expOutPressure': 68.18,\n",
    "  'glycolFlow': 0.128212721681212410410312512295224,\n",
    "  'expOutTemperature': -20.0\n",
    "} \n",
    "data_json1 = json.dumps(datasphaseopt)\n",
    "\n",
    "try:\n",
    "        response = requests.post('http://localhost:8000/kol2/waterDewPoint', data_json1)  \n",
    "except:\n",
    "        print(\"No respons after max time...continuing\")\n",
    "\n",
    "response.json()"
   ]
  }
 ],
 "metadata": {
  "interpreter": {
   "hash": "57baa5815c940fdaff4d14510622de9616cae602444507ba5d0b6727c008cbd6"
  },
  "kernelspec": {
   "display_name": "Python 3.7.8 64-bit",
   "language": "python",
   "name": "python3"
  },
  "language_info": {
   "codemirror_mode": {
    "name": "ipython",
    "version": 3
   },
   "file_extension": ".py",
   "mimetype": "text/x-python",
   "name": "python",
   "nbconvert_exporter": "python",
   "pygments_lexer": "ipython3",
   "version": "3.8.12"
  },
  "orig_nbformat": 4
 },
 "nbformat": 4,
 "nbformat_minor": 2
}
