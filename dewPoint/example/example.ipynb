{
 "cells": [
  {
   "cell_type": "markdown",
   "metadata": {},
   "source": [
    "# Example of running the Kolsnes Dew Point API"
   ]
  },
  {
   "cell_type": "markdown",
   "metadata": {},
   "source": [
    "Examples of running the Kollsnes Dew Point API\n",
    "\n",
    "Run the API localy using the command:\n",
    "uvicorn main:app --reload \n",
    "\n",
    "http://localhost:8000/"
   ]
  },
  {
   "cell_type": "code",
   "execution_count": 1,
   "metadata": {},
   "outputs": [
    {
     "data": {
      "text/plain": [
       "{'polytropicEfficiency': 0.8074136806721035,\n",
       " 'polytropiFluidHeaad': 116.55320136694323}"
      ]
     },
     "execution_count": 1,
     "metadata": {},
     "output_type": "execute_result"
    }
   ],
   "source": [
    "import json\n",
    "import requests\n",
    "\n",
    "datasphaseopt = {\n",
    "        'MEGflow': 1000.0, #kg/hr\n",
    "        'feedGasFlow': 20.0, #MSm3/day\n",
    "        'temperature_dpscrubber': -25.0, #deg C\n",
    "        'pressure_dpscrubber': 30.0 # bara\n",
    "} \n",
    "data_json1 = json.dumps(datasphaseopt)\n",
    "\n",
    "try:\n",
    "        response = requests.post('http://localhost:8000/waterDewPoint', data_json1)  \n",
    "except:\n",
    "        print(\"No respons after max time...continuing\")\n",
    "\n",
    "response.json()"
   ]
  }
 ],
 "metadata": {
  "interpreter": {
   "hash": "57baa5815c940fdaff4d14510622de9616cae602444507ba5d0b6727c008cbd6"
  },
  "kernelspec": {
   "display_name": "Python 3.7.8 64-bit",
   "language": "python",
   "name": "python3"
  },
  "language_info": {
   "codemirror_mode": {
    "name": "ipython",
    "version": 3
   },
   "file_extension": ".py",
   "mimetype": "text/x-python",
   "name": "python",
   "nbconvert_exporter": "python",
   "pygments_lexer": "ipython3",
   "version": "3.7.9"
  },
  "orig_nbformat": 4
 },
 "nbformat": 4,
 "nbformat_minor": 2
}
