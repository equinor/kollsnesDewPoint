{
 "cells": [
  {
   "cell_type": "code",
   "execution_count": null,
   "metadata": {},
   "outputs": [],
   "source": []
  },
  {
   "cell_type": "markdown",
   "metadata": {},
   "source": [
    "# Develop process\n"
   ]
  },
  {
   "cell_type": "code",
   "execution_count": 2,
   "metadata": {},
   "outputs": [],
   "source": [
    "import neqsim\n",
    "from neqsim.thermo.thermoTools import *\n",
    "import pandas as pd"
   ]
  },
  {
   "cell_type": "markdown",
   "metadata": {},
   "source": [
    "# Define input parameters"
   ]
  },
  {
   "cell_type": "code",
   "execution_count": 62,
   "metadata": {},
   "outputs": [],
   "source": [
    "inputdata = {\n",
    "  'feedFlowRateTrain1': 11411.9,\n",
    "  'feedPressure': 89.0,\n",
    "  'feedTemperature': 5.0,\n",
    "  'sep1Pressure': 85.0,\n",
    "  'cooler1T': -5.0,\n",
    "  'expOutPressure': 67.0,\n",
    "  'glycolFlow': 1.0,\n",
    "  \n",
    "}"
   ]
  },
  {
   "cell_type": "markdown",
   "metadata": {},
   "source": [
    "# Define fluid for feed"
   ]
  },
  {
   "cell_type": "code",
   "execution_count": 51,
   "metadata": {},
   "outputs": [
    {
     "name": "stdout",
     "output_type": "stream",
     "text": [
      "  ComponentName  MolarComposition[-]  MolarMass[kg/mol]  RelativeDensity[-]\n",
      "0         water                  1.0                NaN                 NaN\n",
      "1           MEG                  0.0                NaN                 NaN\n",
      "2       methane                  0.5                NaN                 NaN\n",
      "3        ethane                  0.1                NaN                 NaN\n",
      "4            C6                  0.1              0.091                0.70\n",
      "5            C7                  0.3              0.190                0.86\n"
     ]
    }
   ],
   "source": [
    "feedFluid = {'ComponentName':  ['water', 'MEG', \"methane\", \"ethane\", \"C6\", \"C7\"], \n",
    "        'MolarComposition[-]':  [1.0, 0.0, 0.5, 0.1,0.1, 0.3], \n",
    "        'MolarMass[kg/mol]': [None,None, None,None, 0.091, 0.19],\n",
    "        'RelativeDensity[-]': [None,None,None,None, 0.7, 0.86 ]\n",
    "  }\n",
    "\n",
    "reservoirFluiddf = pd.DataFrame(feedFluid) \n",
    "print(reservoirFluiddf.head(20).to_string()) \n",
    "fluid7 = fluid_df(reservoirFluiddf)\n",
    "\n",
    "glycolFluid = fluid7.clone()\n",
    "glycolFluid.setMolarComposition([0.0, 1.0, 0.0, 0.0,0.0, 0.0])"
   ]
  },
  {
   "cell_type": "markdown",
   "metadata": {},
   "source": [
    "# Creating Kolsnes dew point process"
   ]
  },
  {
   "cell_type": "code",
   "execution_count": 63,
   "metadata": {},
   "outputs": [],
   "source": [
    "from neqsim.process import expander, mixer, stream, cooler, valve, separator3phase,clearProcess,runProcess\n",
    "\n",
    "clearProcess()\n",
    "feedStream = stream(fluid7)\n",
    "feedStream.setFlowRate(inputdata['feedFlowRateTrain1'], 'kg/hr')\n",
    "feedStream.setPressure(inputdata['feedPressure'], 'barg')\n",
    "feedStream.setTemperature(inputdata['feedTemperature'], 'C')\n",
    "\n",
    "glycolFeedStream = stream(glycolFluid)\n",
    "glycolFeedStream.setFlowRate(inputdata['glycolFlow'], 'kg/hr')\n",
    "glycolFeedStream.setTemperature(inputdata['feedTemperature'], 'C')\n",
    "glycolFeedStream.setPressure(inputdata['feedPressure'], 'barg')\n",
    "\n",
    "slugCatcher = separator3phase(feedStream)\n",
    "\n",
    "gasFromSlugCatcher = stream(slugCatcher.getGasOutStream())\n",
    "\n",
    "valve1 = valve(gasFromSlugCatcher)\n",
    "valve1.setOutletPressure(inputdata['sep1Pressure'])\n",
    "\n",
    "sep1 = separator3phase(valve1.getOutStream())\n",
    "\n",
    "cooler1 = cooler(sep1.getGasOutStream())\n",
    "cooler1.setOutTemperature(inputdata['cooler1T'], 'C')\n",
    "\n",
    "sep2 = separator3phase(cooler1.getOutStream())\n",
    "\n",
    "mixer1 = mixer()\n",
    "mixer1.addStream(sep2.getGasOutStream())\n",
    "mixer1.addStream(glycolFeedStream)\n",
    "\n",
    "expander1 = expander(mixer1.getOutStream(), inputdata['expOutPressure'])\n",
    "\n",
    "sep3 = separator3phase(expander1.getOutStream())\n",
    "\n",
    "gasToExport = stream(sep3.getGasOutStream())\n",
    "\n",
    "runProcess()\n",
    "\n",
    "\n"
   ]
  },
  {
   "cell_type": "code",
   "execution_count": 64,
   "metadata": {},
   "outputs": [
    {
     "name": "stdout",
     "output_type": "stream",
     "text": [
      "                        total               gas                   \n",
      "             water  4.4647E−6         4.4647E−6    [mole fraction]\n",
      "               MEG 1.22401E−7        1.22401E−7    [mole fraction]\n",
      "           methane 9.28392E−1        9.28392E−1    [mole fraction]\n",
      "            ethane 7.09026E−2        7.09026E−2    [mole fraction]\n",
      "             C6_PC 7.00429E−4        7.00429E−4    [mole fraction]\n",
      "             C7_PC 2.95263E−8        2.95263E−8    [mole fraction]\n",
      "                                                                  \n",
      "           Density                    7.30518E1           [kg/m^3]\n",
      "     PhaseFraction                          1E0    [mole fraction]\n",
      "         MolarMass  1.70901E1         1.70901E1          [kg/kmol]\n",
      "          Z factor                   7.50749E−1                [-]\n",
      "Heat Capacity (Cp)                    3.33542E0          [kJ/kg*K]\n",
      "Heat Capacity (Cv)                     1.6739E0          [kJ/kg*K]\n",
      "    Speed of Sound                    3.73632E2            [m/sec]\n",
      "          Enthalpy −1.58822E2        −1.58822E2            [kJ/kg]\n",
      "           Entropy −2.41461E0        −2.41461E0          [kJ/kg*K]\n",
      "    JT coefficient                   5.95013E−1            [K/bar]\n",
      "                                                                  \n",
      "         Viscosity                   1.20351E−5         [kg/m*sec]\n",
      "      Conductivity                   3.82352E−2            [W/m*K]\n",
      "    SurfaceTension                                           [N/m]\n",
      "                                                                  \n",
      "                                                                  \n",
      "                                                                  \n",
      "          Pressure                         67.0              [bar]\n",
      "       Temperature            252.0000542662702                [K]\n",
      "                                                                  \n",
      "             Model                      SRK-EOS                  -\n",
      "       Mixing Rule                      classic                  -\n",
      "                                                                  \n",
      "            Stream                                               -\n",
      "                                                                  \n",
      "                                                                  \n",
      "                                                                  \n",
      "                                                                  \n",
      "temperatutre out expander  -21.149945733729766\n",
      "hydrate/water dew point temperature  -28.641376102116567\n"
     ]
    }
   ],
   "source": [
    "printFrame(gasToExport.getFluid())\n",
    "print('temperatutre out expander ', expander1.getOutStream().getTemperature('C'))\n",
    "\n",
    "gasToExport.setPressure(70.0, 'bara')\n",
    "print('hydrate/water dew point temperature ', (gasToExport.getHydrateEquilibriumTemperature()-273.15))"
   ]
  }
 ],
 "metadata": {
  "interpreter": {
   "hash": "a5df7bd4ca0d6bb9986d9d69faf4f6c25893f82bf7982e9868ee8495bd8c927f"
  },
  "kernelspec": {
   "display_name": "Python 3.7.9 ('base')",
   "language": "python",
   "name": "python3"
  },
  "language_info": {
   "codemirror_mode": {
    "name": "ipython",
    "version": 3
   },
   "file_extension": ".py",
   "mimetype": "text/x-python",
   "name": "python",
   "nbconvert_exporter": "python",
   "pygments_lexer": "ipython3",
   "version": "3.7.9"
  },
  "orig_nbformat": 4
 },
 "nbformat": 4,
 "nbformat_minor": 2
}
